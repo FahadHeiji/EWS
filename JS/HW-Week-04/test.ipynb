{
 "cells": [
  {
   "cell_type": "code",
   "execution_count": null,
   "metadata": {
    "dotnet_interactive": {
     "language": "javascript"
    },
    "polyglot_notebook": {
     "kernelName": "javascript"
    },
    "vscode": {
     "languageId": "polyglot-notebook"
    }
   },
   "outputs": [
    {
     "data": {
      "text/plain": [
       "13"
      ]
     },
     "metadata": {},
     "output_type": "display_data"
    },
    {
     "data": {
      "text/plain": [
       "8"
      ]
     },
     "metadata": {},
     "output_type": "display_data"
    }
   ],
   "source": [
    "/*\n",
    "  Number Challenge\n",
    "*/\n",
    "\n",
    "let a = 100;\n",
    "let b = 2_00.5;\n",
    "let c = 1e2;\n",
    "let d = 2.4;\n",
    "\n",
    "// Find Smallest Number In All Variables And Return Integer\n",
    "console.log(Math.min(a, b, c, d));\n",
    "\n",
    "// Use Variables a + d One Time To Get The Needed Output\n",
    "console.log(Math.pow(a, 2) * Math.pow(d, 0)); // 10000\n",
    "\n",
    "// Get Integer \"2\" From d Variable With 4 Methods\n",
    "console.log(Math.round(d));\n",
    "console.log(Math.floor(d));\n",
    "console.log(Math.trunc(d));\n",
    "console.log(Number.parseInt(d));\n",
    "\n",
    "// Use Variables b + d To Get This Valus\n",
    "console.log((Math.round(b) / Math.ceil(d)).toString()); // 66.67 => String\n",
    "console.log(Math.round(Math.round(b) / Math.ceil(d))); // 67 => Number"
   ]
  },
  {
   "cell_type": "markdown",
   "metadata": {},
   "source": []
  }
 ],
 "metadata": {
  "language_info": {
   "name": "python"
  }
 },
 "nbformat": 4,
 "nbformat_minor": 2
}
